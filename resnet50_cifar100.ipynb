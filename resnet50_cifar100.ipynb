{
  "nbformat": 4,
  "nbformat_minor": 0,
  "metadata": {
    "colab": {
      "name": "resnet50_cifar100.ipynb",
      "provenance": [],
      "collapsed_sections": [],
      "include_colab_link": true
    },
    "kernelspec": {
      "name": "python3",
      "display_name": "Python 3"
    },
    "language_info": {
      "name": "python"
    },
    "accelerator": "GPU"
  },
  "cells": [
    {
      "cell_type": "markdown",
      "metadata": {
        "id": "view-in-github",
        "colab_type": "text"
      },
      "source": [
        "<a href=\"https://colab.research.google.com/github/9mao9/Resnet_CIFAR100/blob/main/resnet50_cifar100.ipynb\" target=\"_parent\"><img src=\"https://colab.research.google.com/assets/colab-badge.svg\" alt=\"Open In Colab\"/></a>"
      ]
    },
    {
      "cell_type": "code",
      "metadata": {
        "id": "FZSQC7bxy3IJ"
      },
      "source": [
        "import numpy as np\n",
        "import torch\n",
        "import torch.nn as nn\n",
        "import torch.optim as optimizers\n",
        "import torch.nn.functional as F\n",
        "from torch.utils.data import Dataset, DataLoader\n",
        "import torchvision\n",
        "import torchvision.transforms as transforms\n",
        "from sklearn.metrics import accuracy_score"
      ],
      "execution_count": null,
      "outputs": []
    },
    {
      "cell_type": "markdown",
      "source": [
        "#**Network model**"
      ],
      "metadata": {
        "id": "dsduVlJ3ijeA"
      }
    },
    {
      "cell_type": "code",
      "metadata": {
        "id": "yB4Ku66rISst"
      },
      "source": [
        "class ResNet50(nn.Module):\n",
        "  def __init__(self, output_dim):\n",
        "    super(ResNet50, self).__init__()\n",
        "    self.stem = StemBlock(channel_in=3, channel_out=64)\n",
        "\n",
        "    # Block 1\n",
        "    self.id1 = Block(channel_in=64, channel_out=256, stride=1, identity=True)\n",
        "    self.block1 = nn.ModuleList([Block(channel_in=256, channel_out=256, stride=1, identity=False) for _ in range(2)])\n",
        "\n",
        "    # Block 2\n",
        "    self.id2 = Block(channel_in=256, channel_out=512, stride=2, identity=True)\n",
        "    self.block2 = nn.ModuleList([Block(channel_in=512, channel_out=512, stride=1, identity=False) for _ in range(3)])\n",
        "\n",
        "    # Block 3\n",
        "    self.id3 = Block(channel_in=512, channel_out=1024, stride=2, identity=True)\n",
        "    self.block3 = nn.ModuleList([Block(channel_in=1024, channel_out=1024, stride=1, identity=False) for _ in range(5)])\n",
        "\n",
        "    # Block 4\n",
        "    self.id4 = Block(channel_in=1024, channel_out=2048, stride=2, identity=True)\n",
        "    self.block4 = nn.ModuleList([Block(channel_in=2048, channel_out=2048, stride=1, identity=False) for _ in range(2)])\n",
        "    self.avg_pool = GlobalAvgPool2d()\n",
        "    self.fc = nn.Linear(2048, 1000)\n",
        "    self.out = nn.Linear(1000, output_dim)\n",
        "\n",
        "  def forward(self, x):\n",
        "    h = self.stem(x)\n",
        "    h = self.id1(h)\n",
        "    for block in self.block1:\n",
        "      h = block(h)\n",
        "    h = self.id2(h)\n",
        "    for block in self.block2:\n",
        "      h = block(h)\n",
        "    h = self.id3(h)\n",
        "    for block in self.block3:\n",
        "      h = block(h)\n",
        "    h = self.id4(h)\n",
        "    for block in self.block4:\n",
        "      h = block(h)\n",
        "    h = self.avg_pool(h)\n",
        "    h = self.fc(h)\n",
        "    h = torch.relu(h)\n",
        "    h = self.out(h)\n",
        "    y = torch.log_softmax(h, dim=-1)\n",
        "    return y"
      ],
      "execution_count": null,
      "outputs": []
    },
    {
      "cell_type": "code",
      "source": [
        "class StemBlock(nn.Module):\n",
        "  def __init__(self, channel_in, channel_out):\n",
        "    super(StemBlock, self).__init__()\n",
        "\n",
        "    self.stem = nn.Sequential(nn.Conv2d(channel_in, channel_out, kernel_size=(7, 7), stride=2, padding=3),\n",
        "                              nn.BatchNorm2d(channel_out),\n",
        "                              nn.ReLU(inplace=True),\n",
        "                              nn.MaxPool2d(kernel_size=(3, 3), stride=2, padding=1))\n",
        "    self.init_weights()\n",
        "  \n",
        "  def init_weights(self):\n",
        "    for _, module in self.named_modules():\n",
        "      if isinstance(module, nn.Conv2d):\n",
        "        nn.init.kaiming_normal_(module.weight, mode='fan_in', nonlinearity='relu')\n",
        "      if isinstance(module, nn.BatchNorm2d):\n",
        "        nn.init.ones_(module.weight)\n",
        "        nn.init.zeros_(module.bias)\n",
        "  \n",
        "  def forward(self, x):\n",
        "    return self.stem(x)"
      ],
      "metadata": {
        "id": "Ovy_2rwPQ17T"
      },
      "execution_count": null,
      "outputs": []
    },
    {
      "cell_type": "code",
      "metadata": {
        "id": "cHgj1iFAIUb1"
      },
      "source": [
        "class Block(nn.Module):\n",
        "  def __init__(self, channel_in, channel_out, stride, identity):\n",
        "    super(Block, self).__init__()\n",
        "    channel = int(channel_out / 4)\n",
        "\n",
        "    # 1x1 conv\n",
        "    self.bn1 = nn.BatchNorm2d(channel_in)\n",
        "    self.relu1 = nn.ReLU()\n",
        "    self.conv1 = nn.Conv2d(channel_in, channel, kernel_size=(1, 1))\n",
        "    \n",
        "    # 3x3 conv\n",
        "    self.bn2 = nn.BatchNorm2d(channel)\n",
        "    self.relu2 = nn.ReLU()\n",
        "    self.conv2 = nn.Conv2d(channel, channel, kernel_size=(3, 3), stride=stride, padding=1)\n",
        "    \n",
        "    # 1x1 conv\n",
        "    self.bn3 = nn.BatchNorm2d(channel)\n",
        "    self.drop_out = DropPath(drop_prob=0.)\n",
        "    self.conv3 = nn.Conv2d(channel, channel_out, kernel_size=(1, 1))\n",
        "    \n",
        "    # skip connection\n",
        "    self.identity = identity\n",
        "    self.downsample = DownSample(channel_in, channel_out, stride)\n",
        "    self.init_weights()\n",
        "\n",
        "  def init_weights(self):\n",
        "    for _, module in self.named_modules():\n",
        "            if isinstance(module, nn.Conv2d):\n",
        "                nn.init.kaiming_normal_(module.weight, mode='fan_in',\n",
        "                                        nonlinearity='relu')\n",
        "            if isinstance(module, nn.BatchNorm2d):\n",
        "                nn.init.ones_(module.weight)\n",
        "                nn.init.zeros_(module.bias)\n",
        "\n",
        "  def forward(self, x):\n",
        "    h = self.bn1(x)\n",
        "    h = self.relu1(h)\n",
        "    h = self.conv1(h)\n",
        "    h = self.bn2(h)\n",
        "    h = self.relu2(h)\n",
        "    h = self.conv2(h)\n",
        "    h = self.bn3(h)\n",
        "    h = self.drop_out(h)\n",
        "    h = self.conv3(h)\n",
        "    shortcut = self.downsample(x) if self.identity else x\n",
        "    y = h + shortcut\n",
        "    return y"
      ],
      "execution_count": null,
      "outputs": []
    },
    {
      "cell_type": "code",
      "source": [
        "class DropPath(nn.Module):\n",
        "  def __init__(self, drop_prob=None):\n",
        "    super(DropPath, self).__init__()\n",
        "    self.drop_prob = drop_prob\n",
        "\n",
        "  def forward(self, x):\n",
        "    if self.drop_prob is None or self.drop_prob == 0 or not self.training:\n",
        "      return x\n",
        "    keep_prob = 1 - self.drop_prob\n",
        "    shape = (x.shape[0], ) + (1, ) * (x.ndim - 1)\n",
        "    rand_tensor = keep_prob + torch.rand(shape, dtype=x.dtype, device=x.device)\n",
        "    rand_tensor = rand_tensor.floor_()\n",
        "    out = x.div(keep_prob) * rand_tensor\n",
        "    return out"
      ],
      "metadata": {
        "id": "c4X0KKwzbxh2"
      },
      "execution_count": null,
      "outputs": []
    },
    {
      "cell_type": "code",
      "source": [
        "class DownSample(nn.Module):\n",
        "  def __init__(self, channel_in, channel_out, stride):\n",
        "    super(DownSample, self).__init__()\n",
        "    self.downsample = nn.Conv2d(channel_in, channel_out, kernel_size=(1, 1), stride=stride)\n",
        "\n",
        "  def forward(self, x):\n",
        "    return self.downsample(x)"
      ],
      "metadata": {
        "id": "ChUqtg5gbzl_"
      },
      "execution_count": null,
      "outputs": []
    },
    {
      "cell_type": "code",
      "metadata": {
        "id": "3g3CkT_gIZcX"
      },
      "source": [
        "class GlobalAvgPool2d(nn.Module):\n",
        "  def __init__(self, device='cuda'):\n",
        "    super(GlobalAvgPool2d, self).__init__()\n",
        "  def forward(self, x):\n",
        "    return F.avg_pool2d(x, kernel_size=x.size()[2:]).view(-1, x.size(1))"
      ],
      "execution_count": null,
      "outputs": []
    },
    {
      "cell_type": "markdown",
      "source": [
        "#Tensor size\n",
        "\n",
        "CNN networks are capable of adaptive to Image. Therefore, using pytorch library, you can show that tensor $h$ size is\n",
        "\n",
        "\n",
        "$$\n",
        "h = \\begin{bmatrix} batch size & channel & width & height \\end{bmatrix} \n",
        "$$\n",
        "\n",
        "$batch size$ is Neural Network minibatch, $channel$ is channel number, $width$ and $height$ are width and height of image source."
      ],
      "metadata": {
        "id": "GyPD3qng4CRK"
      }
    },
    {
      "cell_type": "markdown",
      "source": [
        "#**CIFAR-100**"
      ],
      "metadata": {
        "id": "PU1RJN2CicxO"
      }
    },
    {
      "cell_type": "code",
      "metadata": {
        "colab": {
          "base_uri": "https://localhost:8080/"
        },
        "id": "sIJUc5boChkC",
        "outputId": "25751901-5bac-4293-bae9-2a52f2f88abd"
      },
      "source": [
        "if __name__ == '__main__':\n",
        "  np.random.seed(1234)\n",
        "  torch.manual_seed(1234)\n",
        "  device = torch.device('cuda' if torch.cuda.is_available() else 'cpu')\n",
        "  scaler = torch.cuda.amp.GradScaler()\n",
        "\n",
        "  cifar_classes = ['apple', 'aquarium_fish', 'baby', 'bear', 'beaver', 'bed', 'bee', 'beetle', \n",
        "    'bicycle', 'bottle', 'bowl', 'boy', 'bridge', 'bus', 'butterfly', 'camel', \n",
        "    'can', 'castle', 'caterpillar', 'cattle', 'chair', 'chimpanzee', 'clock', \n",
        "    'cloud', 'cockroach', 'couch', 'crab', 'crocodile', 'cup', 'dinosaur', \n",
        "    'dolphin', 'elephant', 'flatfish', 'forest', 'fox', 'girl', 'hamster', \n",
        "    'house', 'kangaroo', 'keyboard', 'lamp', 'lawn_mower', 'leopard', 'lion',\n",
        "    'lizard', 'lobster', 'man', 'maple_tree', 'motorcycle', 'mountain', 'mouse',\n",
        "    'mushroom', 'oak_tree', 'orange', 'orchid', 'otter', 'palm_tree', 'pear',\n",
        "    'pickup_truck', 'pine_tree', 'plain', 'plate', 'poppy', 'porcupine',\n",
        "    'possum', 'rabbit', 'raccoon', 'ray', 'road', 'rocket', 'rose',\n",
        "    'sea', 'seal', 'shark', 'shrew', 'skunk', 'skyscraper', 'snail', 'snake',\n",
        "    'spider', 'squirrel', 'streetcar', 'sunflower', 'sweet_pepper', 'table',\n",
        "    'tank', 'telephone', 'television', 'tiger', 'tractor', 'train', 'trout',\n",
        "    'tulip', 'turtle', 'wardrobe', 'whale', 'willow_tree', 'wolf', 'woman',\n",
        "    'worm']\n",
        "  \n",
        "  transform = transforms.Compose([transforms.Resize((160, 160)), transforms.RandAugment(magnitude=10), transforms.ToTensor()])\n",
        "  cifar_train = torchvision.datasets.CIFAR100(root=\"CIFAR100\", download=True, train=True, transform=transform)\n",
        "  cifar_val = torchvision.datasets.CIFAR100(root=\"CIFAR100\", download=True, train=False, transform=transform)\n",
        "  train_dataloader = DataLoader(cifar_train, batch_size=128, shuffle=True, num_workers=2, pin_memory=True, drop_last=True)\n",
        "  val_dataloader = DataLoader(cifar_val, batch_size=128, shuffle=False, num_workers=2, pin_memory=True, drop_last=True)\n",
        "\n",
        "  model = ResNet50(len(cifar_classes)).to(device)\n",
        "  \n",
        "  def compute_loss(label, pred):\n",
        "    return criterion(log_prob(pred), label)\n",
        "\n",
        "  def train_step(x, t):\n",
        "    model.train()\n",
        "    with torch.cuda.amp.autocast():\n",
        "      preds = model(x)\n",
        "      loss = compute_loss(t, preds)\n",
        "    del preds, x, t\n",
        "    optimizer.zero_grad()\n",
        "    scaler.scale(loss).backward()\n",
        "    scaler.step(optimizer)\n",
        "    scaler.update()\n",
        "    return loss\n",
        "\n",
        "  def val_step(x, t):\n",
        "    model.eval()\n",
        "    with torch.cuda.amp.autocast():\n",
        "      preds = model(x)\n",
        "      loss = compute_loss(t, preds)\n",
        "    del x, t\n",
        "    return loss, preds\n",
        "\n",
        "  criterion = nn.NLLLoss()\n",
        "  log_prob = nn.LogSoftmax(dim=1)\n",
        "  optimizer = optimizers.SGD(model.parameters(),lr=0.001, momentum=0.9, weight_decay=4e-5)\n",
        "  epochs = 50\n",
        "\n",
        "  result_list = np.zeros(4)\n",
        "  for epoch in range(epochs):\n",
        "    train_loss = 0.\n",
        "    val_loss = 0.\n",
        "    val_acc = 0.\n",
        "\n",
        "    for(x, t) in train_dataloader:\n",
        "      x, t = x.to(device), t.to(device)\n",
        "      loss = train_step(x, t)\n",
        "      train_loss += loss.item()\n",
        "      del loss\n",
        "      torch.cuda.empty_cache()\n",
        "\n",
        "    train_loss /= len(train_dataloader)\n",
        "    print(\"Epoch: {}, Train Cost: {:.3f}\".format(epoch+1, train_loss))\n",
        "\n",
        "    with torch.inference_mode():\n",
        "      for (x, t) in val_dataloader:\n",
        "        x, t = x.to(device), t.to(device)\n",
        "        loss, preds = val_step(x, t)\n",
        "        val_loss += loss.item()\n",
        "        val_acc += accuracy_score(t.tolist(), preds.argmax(dim=-1).tolist())\n",
        "        del loss, preds\n",
        "        torch.cuda.empty_cache()\n",
        "\n",
        "    val_loss /= len(val_dataloader)\n",
        "    val_acc /= len(val_dataloader)\n",
        "    result_list = np.vstack((result_list, np.array([epoch+1, train_loss, val_loss, val_acc])))\n",
        "    print(\"Epoch: {}, Valid Cost: {:.3f}, Valid Acc: {:.3f}\".format(epoch+1, val_loss, val_acc))"
      ],
      "execution_count": null,
      "outputs": [
        {
          "output_type": "stream",
          "name": "stdout",
          "text": [
            "Files already downloaded and verified\n",
            "Files already downloaded and verified\n",
            "Epoch: 1, Train Cost: 4.123\n",
            "Epoch: 1, Valid Cost: 3.913, Valid Acc: 0.108\n",
            "Epoch: 2, Train Cost: 3.757\n",
            "Epoch: 2, Valid Cost: 3.684, Valid Acc: 0.140\n",
            "Epoch: 3, Train Cost: 3.585\n",
            "Epoch: 3, Valid Cost: 3.737, Valid Acc: 0.133\n",
            "Epoch: 4, Train Cost: 3.451\n",
            "Epoch: 4, Valid Cost: 3.527, Valid Acc: 0.176\n",
            "Epoch: 5, Train Cost: 3.320\n",
            "Epoch: 5, Valid Cost: 3.516, Valid Acc: 0.174\n",
            "Epoch: 6, Train Cost: 3.207\n",
            "Epoch: 6, Valid Cost: 3.357, Valid Acc: 0.195\n",
            "Epoch: 7, Train Cost: 3.094\n",
            "Epoch: 7, Valid Cost: 3.205, Valid Acc: 0.222\n",
            "Epoch: 8, Train Cost: 3.013\n",
            "Epoch: 8, Valid Cost: 3.178, Valid Acc: 0.228\n",
            "Epoch: 9, Train Cost: 2.926\n",
            "Epoch: 9, Valid Cost: 3.159, Valid Acc: 0.233\n",
            "Epoch: 10, Train Cost: 2.845\n",
            "Epoch: 10, Valid Cost: 3.066, Valid Acc: 0.243\n",
            "Epoch: 11, Train Cost: 2.773\n",
            "Epoch: 11, Valid Cost: 3.624, Valid Acc: 0.195\n",
            "Epoch: 12, Train Cost: 2.708\n",
            "Epoch: 12, Valid Cost: 3.122, Valid Acc: 0.248\n",
            "Epoch: 13, Train Cost: 2.640\n",
            "Epoch: 13, Valid Cost: 2.966, Valid Acc: 0.275\n",
            "Epoch: 14, Train Cost: 2.578\n",
            "Epoch: 14, Valid Cost: 2.850, Valid Acc: 0.289\n",
            "Epoch: 15, Train Cost: 2.521\n",
            "Epoch: 15, Valid Cost: 2.930, Valid Acc: 0.282\n",
            "Epoch: 16, Train Cost: 2.471\n",
            "Epoch: 16, Valid Cost: 2.821, Valid Acc: 0.302\n",
            "Epoch: 17, Train Cost: 2.426\n",
            "Epoch: 17, Valid Cost: 2.822, Valid Acc: 0.300\n",
            "Epoch: 18, Train Cost: 2.363\n",
            "Epoch: 18, Valid Cost: 2.762, Valid Acc: 0.312\n",
            "Epoch: 19, Train Cost: 2.315\n",
            "Epoch: 19, Valid Cost: 2.646, Valid Acc: 0.332\n",
            "Epoch: 20, Train Cost: 2.277\n",
            "Epoch: 20, Valid Cost: 3.204, Valid Acc: 0.263\n",
            "Epoch: 21, Train Cost: 2.237\n",
            "Epoch: 21, Valid Cost: 2.720, Valid Acc: 0.328\n",
            "Epoch: 22, Train Cost: 2.186\n",
            "Epoch: 22, Valid Cost: 2.625, Valid Acc: 0.340\n",
            "Epoch: 23, Train Cost: 2.141\n",
            "Epoch: 23, Valid Cost: 2.511, Valid Acc: 0.366\n",
            "Epoch: 24, Train Cost: 2.098\n",
            "Epoch: 24, Valid Cost: 2.582, Valid Acc: 0.349\n",
            "Epoch: 25, Train Cost: 2.058\n",
            "Epoch: 25, Valid Cost: 2.636, Valid Acc: 0.333\n",
            "Epoch: 26, Train Cost: 2.023\n",
            "Epoch: 26, Valid Cost: 2.507, Valid Acc: 0.360\n",
            "Epoch: 27, Train Cost: 1.988\n",
            "Epoch: 27, Valid Cost: 2.503, Valid Acc: 0.372\n",
            "Epoch: 28, Train Cost: 1.948\n",
            "Epoch: 28, Valid Cost: 2.476, Valid Acc: 0.378\n",
            "Epoch: 29, Train Cost: 1.905\n",
            "Epoch: 29, Valid Cost: 2.425, Valid Acc: 0.388\n",
            "Epoch: 30, Train Cost: 1.868\n",
            "Epoch: 30, Valid Cost: 2.888, Valid Acc: 0.310\n",
            "Epoch: 31, Train Cost: 1.836\n",
            "Epoch: 31, Valid Cost: 2.343, Valid Acc: 0.402\n",
            "Epoch: 32, Train Cost: 1.797\n",
            "Epoch: 32, Valid Cost: 2.312, Valid Acc: 0.403\n",
            "Epoch: 33, Train Cost: 1.776\n",
            "Epoch: 33, Valid Cost: 2.553, Valid Acc: 0.381\n",
            "Epoch: 34, Train Cost: 1.739\n",
            "Epoch: 34, Valid Cost: 2.327, Valid Acc: 0.411\n",
            "Epoch: 35, Train Cost: 1.711\n",
            "Epoch: 35, Valid Cost: 2.941, Valid Acc: 0.323\n",
            "Epoch: 36, Train Cost: 1.668\n",
            "Epoch: 36, Valid Cost: 2.298, Valid Acc: 0.414\n",
            "Epoch: 37, Train Cost: 1.651\n",
            "Epoch: 37, Valid Cost: 2.254, Valid Acc: 0.425\n",
            "Epoch: 38, Train Cost: 1.616\n",
            "Epoch: 38, Valid Cost: 2.776, Valid Acc: 0.347\n",
            "Epoch: 39, Train Cost: 1.587\n",
            "Epoch: 39, Valid Cost: 2.452, Valid Acc: 0.389\n",
            "Epoch: 40, Train Cost: 1.569\n",
            "Epoch: 40, Valid Cost: 2.340, Valid Acc: 0.412\n",
            "Epoch: 41, Train Cost: 1.526\n",
            "Epoch: 41, Valid Cost: 2.394, Valid Acc: 0.409\n",
            "Epoch: 42, Train Cost: 1.505\n",
            "Epoch: 42, Valid Cost: 2.401, Valid Acc: 0.405\n",
            "Epoch: 43, Train Cost: 1.479\n",
            "Epoch: 43, Valid Cost: 2.246, Valid Acc: 0.432\n",
            "Epoch: 44, Train Cost: 1.451\n",
            "Epoch: 44, Valid Cost: 2.352, Valid Acc: 0.417\n",
            "Epoch: 45, Train Cost: 1.420\n",
            "Epoch: 45, Valid Cost: 2.327, Valid Acc: 0.424\n",
            "Epoch: 46, Train Cost: 1.412\n",
            "Epoch: 46, Valid Cost: 2.318, Valid Acc: 0.420\n",
            "Epoch: 47, Train Cost: 1.373\n",
            "Epoch: 47, Valid Cost: 2.253, Valid Acc: 0.435\n",
            "Epoch: 48, Train Cost: 1.343\n",
            "Epoch: 48, Valid Cost: 2.248, Valid Acc: 0.436\n",
            "Epoch: 49, Train Cost: 1.324\n",
            "Epoch: 49, Valid Cost: 2.235, Valid Acc: 0.439\n",
            "Epoch: 50, Train Cost: 1.295\n",
            "Epoch: 50, Valid Cost: 2.188, Valid Acc: 0.446\n"
          ]
        }
      ]
    },
    {
      "cell_type": "markdown",
      "source": [
        "#**Plot**"
      ],
      "metadata": {
        "id": "Wt6g8259uWHU"
      }
    },
    {
      "cell_type": "code",
      "source": [
        "import matplotlib.pyplot as plt\n",
        "%matplotlib inline\n",
        "result = result_list.T\n",
        "epoch = result[0]\n",
        "train_loss = result[1]\n",
        "val_loss = result[2]\n",
        "accuracy = result[3]\n",
        "\n",
        "fig, ax1 = plt.subplots(figsize=(10,7))\n",
        "ax1.set_xlim(1, 50)\n",
        "ax1.set_ylim(0, 4)\n",
        "ax1.tick_params(labelsize=16)\n",
        "ax1.set_xlabel(\"Epoch\", fontsize=22)\n",
        "ax1.set_ylabel(\"Cost\", fontsize=22)\n",
        "ax1.plot(epoch, train_loss, color=\"#ce1021\", label=\"Train\")\n",
        "ax1.plot(epoch, val_loss, color=\"#5ab639\", label=\"Val\")\n",
        "\n",
        "ax2 = ax1.twinx()\n",
        "ax2.set_ylim(0, 1)\n",
        "ax2.tick_params(labelsize=16)\n",
        "ax2.set_ylabel(\"Accuracy\", fontsize=22)\n",
        "ax2.plot(epoch, accuracy, color=\"#0086ce\", label=\"Accuracy\")\n",
        "\n",
        "h1, l1 = ax1.get_legend_handles_labels()\n",
        "h2, l2 = ax2.get_legend_handles_labels()\n",
        "ax1.legend(h1+h2, l1+l2, fontsize=18, loc='upper right')\n",
        "\n",
        "plt.show()"
      ],
      "metadata": {
        "id": "Rnapsc0wuR40",
        "colab": {
          "base_uri": "https://localhost:8080/",
          "height": 463
        },
        "outputId": "f151aead-0d0d-4be3-c0d2-fda652248bb6"
      },
      "execution_count": null,
      "outputs": [
        {
          "output_type": "display_data",
          "data": {
            "image/png": "[encoded data removed]",
            "text/plain": [
              "<Figure size 720x504 with 2 Axes>"
            ]
          },
          "metadata": {
            "needs_background": "light"
          }
        }
      ]
    },
    {
      "cell_type": "markdown",
      "source": [
        "#**Image classification on validation data**"
      ],
      "metadata": {
        "id": "kw54l9rkt-jV"
      }
    },
    {
      "cell_type": "code",
      "source": [
        "from PIL import Image\n",
        "device = torch.device('cuda' if torch.cuda.is_available() else 'cpu')\n",
        "\n",
        "cifar_val = torchvision.datasets.CIFAR100(root=\"CIFAR100\", download=False, train=False, transform=None)\n",
        "images, labels=[], []\n",
        "for sample in cifar_val:\n",
        "  image, label = sample\n",
        "  images.append(image)\n",
        "  labels.append(label)\n",
        "\n",
        "idx = 51\n",
        "img_src = images[idx]\n",
        "plt.imshow(img_src)\n",
        "label = labels[idx]\n",
        "\n",
        "trans = transforms.Compose([transforms.Resize((160, 160)), transforms.ToTensor()])\n",
        "img = trans(img_src)\n",
        "img_batch = img[None]\n",
        "\n",
        "model.eval()\n",
        "torch.backends.cudnn.benchmark = True\n",
        "\n",
        "with torch.cuda.amp.autocast():\n",
        "  prediction = model(img_batch.to(device))\n",
        "idx = torch.argmax(prediction[0])\n",
        "print(\"Pred: \", cifar_classes[idx])\n",
        "print(\"Correct: \", cifar_classes[label])"
      ],
      "metadata": {
        "id": "ccZvszhehl6x",
        "colab": {
          "base_uri": "https://localhost:8080/",
          "height": 301
        },
        "outputId": "3445c440-1c4b-4aac-d10a-3b9cceb95624"
      },
      "execution_count": null,
      "outputs": [
        {
          "output_type": "stream",
          "name": "stdout",
          "text": [
            "Pred:  bee\n",
            "Correct:  bee\n"
          ]
        },
        {
          "output_type": "display_data",
          "data": {
            "image/png": "[encoded data removed]",
            "text/plain": [
              "<Figure size 432x288 with 1 Axes>"
            ]
          },
          "metadata": {
            "needs_background": "light"
          }
        }
      ]
    }
  ]
}