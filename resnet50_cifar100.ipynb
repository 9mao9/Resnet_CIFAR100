{
  "nbformat": 4,
  "nbformat_minor": 0,
  "metadata": {
    "colab": {
      "name": "resnet50_cifar100.ipynb",
      "provenance": [],
      "collapsed_sections": [],
      "include_colab_link": true
    },
    "kernelspec": {
      "name": "python3",
      "display_name": "Python 3"
    },
    "language_info": {
      "name": "python"
    },
    "accelerator": "GPU",
    "widgets": {
      "application/vnd.jupyter.widget-state+json": {
        "8ca17ba1fb32433aa031c5086e6bed39": {
          "model_module": "@jupyter-widgets/controls",
          "model_name": "HBoxModel",
          "model_module_version": "1.5.0",
          "state": {
            "_view_name": "HBoxView",
            "_dom_classes": [],
            "_model_name": "HBoxModel",
            "_view_module": "@jupyter-widgets/controls",
            "_model_module_version": "1.5.0",
            "_view_count": null,
            "_view_module_version": "1.5.0",
            "box_style": "",
            "layout": "IPY_MODEL_740b1aaecd4f4611a4ac84b26e8c2775",
            "_model_module": "@jupyter-widgets/controls",
            "children": [
              "IPY_MODEL_303c503fae1a4fc4ae700b3d2a9b7a33",
              "IPY_MODEL_2d38778ebc7b4702848cfe9932ce3a28",
              "IPY_MODEL_283d9a3cda694d4693b3fd4ce95cd22a"
            ]
          }
        },
        "740b1aaecd4f4611a4ac84b26e8c2775": {
          "model_module": "@jupyter-widgets/base",
          "model_name": "LayoutModel",
          "model_module_version": "1.2.0",
          "state": {
            "_view_name": "LayoutView",
            "grid_template_rows": null,
            "right": null,
            "justify_content": null,
            "_view_module": "@jupyter-widgets/base",
            "overflow": null,
            "_model_module_version": "1.2.0",
            "_view_count": null,
            "flex_flow": null,
            "width": null,
            "min_width": null,
            "border": null,
            "align_items": null,
            "bottom": null,
            "_model_module": "@jupyter-widgets/base",
            "top": null,
            "grid_column": null,
            "overflow_y": null,
            "overflow_x": null,
            "grid_auto_flow": null,
            "grid_area": null,
            "grid_template_columns": null,
            "flex": null,
            "_model_name": "LayoutModel",
            "justify_items": null,
            "grid_row": null,
            "max_height": null,
            "align_content": null,
            "visibility": null,
            "align_self": null,
            "height": null,
            "min_height": null,
            "padding": null,
            "grid_auto_rows": null,
            "grid_gap": null,
            "max_width": null,
            "order": null,
            "_view_module_version": "1.2.0",
            "grid_template_areas": null,
            "object_position": null,
            "object_fit": null,
            "grid_auto_columns": null,
            "margin": null,
            "display": null,
            "left": null
          }
        },
        "303c503fae1a4fc4ae700b3d2a9b7a33": {
          "model_module": "@jupyter-widgets/controls",
          "model_name": "HTMLModel",
          "model_module_version": "1.5.0",
          "state": {
            "_view_name": "HTMLView",
            "style": "IPY_MODEL_fdd0071d64e0444cb1c7dd00e281164f",
            "_dom_classes": [],
            "description": "",
            "_model_name": "HTMLModel",
            "placeholder": "​",
            "_view_module": "@jupyter-widgets/controls",
            "_model_module_version": "1.5.0",
            "value": "",
            "_view_count": null,
            "_view_module_version": "1.5.0",
            "description_tooltip": null,
            "_model_module": "@jupyter-widgets/controls",
            "layout": "IPY_MODEL_8d844ebcc71647939599baa6cd14b1a5"
          }
        },
        "2d38778ebc7b4702848cfe9932ce3a28": {
          "model_module": "@jupyter-widgets/controls",
          "model_name": "FloatProgressModel",
          "model_module_version": "1.5.0",
          "state": {
            "_view_name": "ProgressView",
            "style": "IPY_MODEL_c9674f534e3a4ec2867d0ae636c97907",
            "_dom_classes": [],
            "description": "",
            "_model_name": "FloatProgressModel",
            "bar_style": "success",
            "max": 169001437,
            "_view_module": "@jupyter-widgets/controls",
            "_model_module_version": "1.5.0",
            "value": 169001437,
            "_view_count": null,
            "_view_module_version": "1.5.0",
            "orientation": "horizontal",
            "min": 0,
            "description_tooltip": null,
            "_model_module": "@jupyter-widgets/controls",
            "layout": "IPY_MODEL_35ae9e269e234a5184bfc71c2e42ae07"
          }
        },
        "283d9a3cda694d4693b3fd4ce95cd22a": {
          "model_module": "@jupyter-widgets/controls",
          "model_name": "HTMLModel",
          "model_module_version": "1.5.0",
          "state": {
            "_view_name": "HTMLView",
            "style": "IPY_MODEL_772dc6284d1343aabc03a51532b7aebe",
            "_dom_classes": [],
            "description": "",
            "_model_name": "HTMLModel",
            "placeholder": "​",
            "_view_module": "@jupyter-widgets/controls",
            "_model_module_version": "1.5.0",
            "value": " 169001984/? [00:02&lt;00:00, 79988999.04it/s]",
            "_view_count": null,
            "_view_module_version": "1.5.0",
            "description_tooltip": null,
            "_model_module": "@jupyter-widgets/controls",
            "layout": "IPY_MODEL_b42335fa801a4d379be34ab6598950fb"
          }
        },
        "fdd0071d64e0444cb1c7dd00e281164f": {
          "model_module": "@jupyter-widgets/controls",
          "model_name": "DescriptionStyleModel",
          "model_module_version": "1.5.0",
          "state": {
            "_view_name": "StyleView",
            "_model_name": "DescriptionStyleModel",
            "description_width": "",
            "_view_module": "@jupyter-widgets/base",
            "_model_module_version": "1.5.0",
            "_view_count": null,
            "_view_module_version": "1.2.0",
            "_model_module": "@jupyter-widgets/controls"
          }
        },
        "8d844ebcc71647939599baa6cd14b1a5": {
          "model_module": "@jupyter-widgets/base",
          "model_name": "LayoutModel",
          "model_module_version": "1.2.0",
          "state": {
            "_view_name": "LayoutView",
            "grid_template_rows": null,
            "right": null,
            "justify_content": null,
            "_view_module": "@jupyter-widgets/base",
            "overflow": null,
            "_model_module_version": "1.2.0",
            "_view_count": null,
            "flex_flow": null,
            "width": null,
            "min_width": null,
            "border": null,
            "align_items": null,
            "bottom": null,
            "_model_module": "@jupyter-widgets/base",
            "top": null,
            "grid_column": null,
            "overflow_y": null,
            "overflow_x": null,
            "grid_auto_flow": null,
            "grid_area": null,
            "grid_template_columns": null,
            "flex": null,
            "_model_name": "LayoutModel",
            "justify_items": null,
            "grid_row": null,
            "max_height": null,
            "align_content": null,
            "visibility": null,
            "align_self": null,
            "height": null,
            "min_height": null,
            "padding": null,
            "grid_auto_rows": null,
            "grid_gap": null,
            "max_width": null,
            "order": null,
            "_view_module_version": "1.2.0",
            "grid_template_areas": null,
            "object_position": null,
            "object_fit": null,
            "grid_auto_columns": null,
            "margin": null,
            "display": null,
            "left": null
          }
        },
        "c9674f534e3a4ec2867d0ae636c97907": {
          "model_module": "@jupyter-widgets/controls",
          "model_name": "ProgressStyleModel",
          "model_module_version": "1.5.0",
          "state": {
            "_view_name": "StyleView",
            "_model_name": "ProgressStyleModel",
            "description_width": "",
            "_view_module": "@jupyter-widgets/base",
            "_model_module_version": "1.5.0",
            "_view_count": null,
            "_view_module_version": "1.2.0",
            "bar_color": null,
            "_model_module": "@jupyter-widgets/controls"
          }
        },
        "35ae9e269e234a5184bfc71c2e42ae07": {
          "model_module": "@jupyter-widgets/base",
          "model_name": "LayoutModel",
          "model_module_version": "1.2.0",
          "state": {
            "_view_name": "LayoutView",
            "grid_template_rows": null,
            "right": null,
            "justify_content": null,
            "_view_module": "@jupyter-widgets/base",
            "overflow": null,
            "_model_module_version": "1.2.0",
            "_view_count": null,
            "flex_flow": null,
            "width": null,
            "min_width": null,
            "border": null,
            "align_items": null,
            "bottom": null,
            "_model_module": "@jupyter-widgets/base",
            "top": null,
            "grid_column": null,
            "overflow_y": null,
            "overflow_x": null,
            "grid_auto_flow": null,
            "grid_area": null,
            "grid_template_columns": null,
            "flex": null,
            "_model_name": "LayoutModel",
            "justify_items": null,
            "grid_row": null,
            "max_height": null,
            "align_content": null,
            "visibility": null,
            "align_self": null,
            "height": null,
            "min_height": null,
            "padding": null,
            "grid_auto_rows": null,
            "grid_gap": null,
            "max_width": null,
            "order": null,
            "_view_module_version": "1.2.0",
            "grid_template_areas": null,
            "object_position": null,
            "object_fit": null,
            "grid_auto_columns": null,
            "margin": null,
            "display": null,
            "left": null
          }
        },
        "772dc6284d1343aabc03a51532b7aebe": {
          "model_module": "@jupyter-widgets/controls",
          "model_name": "DescriptionStyleModel",
          "model_module_version": "1.5.0",
          "state": {
            "_view_name": "StyleView",
            "_model_name": "DescriptionStyleModel",
            "description_width": "",
            "_view_module": "@jupyter-widgets/base",
            "_model_module_version": "1.5.0",
            "_view_count": null,
            "_view_module_version": "1.2.0",
            "_model_module": "@jupyter-widgets/controls"
          }
        },
        "b42335fa801a4d379be34ab6598950fb": {
          "model_module": "@jupyter-widgets/base",
          "model_name": "LayoutModel",
          "model_module_version": "1.2.0",
          "state": {
            "_view_name": "LayoutView",
            "grid_template_rows": null,
            "right": null,
            "justify_content": null,
            "_view_module": "@jupyter-widgets/base",
            "overflow": null,
            "_model_module_version": "1.2.0",
            "_view_count": null,
            "flex_flow": null,
            "width": null,
            "min_width": null,
            "border": null,
            "align_items": null,
            "bottom": null,
            "_model_module": "@jupyter-widgets/base",
            "top": null,
            "grid_column": null,
            "overflow_y": null,
            "overflow_x": null,
            "grid_auto_flow": null,
            "grid_area": null,
            "grid_template_columns": null,
            "flex": null,
            "_model_name": "LayoutModel",
            "justify_items": null,
            "grid_row": null,
            "max_height": null,
            "align_content": null,
            "visibility": null,
            "align_self": null,
            "height": null,
            "min_height": null,
            "padding": null,
            "grid_auto_rows": null,
            "grid_gap": null,
            "max_width": null,
            "order": null,
            "_view_module_version": "1.2.0",
            "grid_template_areas": null,
            "object_position": null,
            "object_fit": null,
            "grid_auto_columns": null,
            "margin": null,
            "display": null,
            "left": null
          }
        }
      }
    }
  },
  "cells": [
    {
      "cell_type": "markdown",
      "metadata": {
        "id": "view-in-github",
        "colab_type": "text"
      },
      "source": [
        "<a href=\"https://colab.research.google.com/github/9mao9/Resnet_CIFAR100/blob/main/resnet50_cifar100.ipynb\" target=\"_parent\"><img src=\"https://colab.research.google.com/assets/colab-badge.svg\" alt=\"Open In Colab\"/></a>"
      ]
    },
    {
      "cell_type": "code",
      "metadata": {
        "id": "FZSQC7bxy3IJ"
      },
      "source": [
        "import numpy as np\n",
        "import torch\n",
        "import torch.nn as nn\n",
        "import torch.optim as optimizers\n",
        "import torch.nn.functional as F\n",
        "from torch.utils.data import Dataset, DataLoader\n",
        "import torchvision\n",
        "import torchvision.transforms as transforms\n",
        "from sklearn.metrics import accuracy_score"
      ],
      "execution_count": null,
      "outputs": []
    },
    {
      "cell_type": "markdown",
      "source": [
        "#**Network model**"
      ],
      "metadata": {
        "id": "dsduVlJ3ijeA"
      }
    },
    {
      "cell_type": "code",
      "metadata": {
        "id": "yB4Ku66rISst"
      },
      "source": [
        "class ResNet50(nn.Module):\n",
        "  def __init__(self, output_dim):\n",
        "    super(ResNet50, self).__init__()\n",
        "    self.stem = StemBlock(channel_in=3, channel_out=64)\n",
        "\n",
        "    # Block 1\n",
        "    self.id1 = Block(channel_in=64, channel_out=256, stride=1, identity=True)\n",
        "    self.block1 = nn.ModuleList([Block(channel_in=256, channel_out=256, stride=1, identity=False) for _ in range(2)])\n",
        "\n",
        "    # Block 2\n",
        "    self.id2 = Block(channel_in=256, channel_out=512, stride=2, identity=True)\n",
        "    self.block2 = nn.ModuleList([Block(channel_in=512, channel_out=512, stride=1, identity=False) for _ in range(3)])\n",
        "\n",
        "    # Block 3\n",
        "    self.id3 = Block(channel_in=512, channel_out=1024, stride=2, identity=True)\n",
        "    self.block3 = nn.ModuleList([Block(channel_in=1024, channel_out=1024, stride=1, identity=False) for _ in range(5)])\n",
        "\n",
        "    # Block 4\n",
        "    self.id4 = Block(channel_in=1024, channel_out=2048, stride=2, identity=True)\n",
        "    self.block4 = nn.ModuleList([Block(channel_in=2048, channel_out=2048, stride=1, identity=False) for _ in range(2)])\n",
        "    self.avg_pool = GlobalAvgPool2d()\n",
        "    self.fc = nn.Linear(2048, 1000)\n",
        "    self.out = nn.Linear(1000, output_dim)\n",
        "\n",
        "  def forward(self, x):\n",
        "    h = self.stem(x)\n",
        "    h = self.id1(h)\n",
        "    for block in self.block1:\n",
        "      h = block(h)\n",
        "    h = self.id2(h)\n",
        "    for block in self.block2:\n",
        "      h = block(h)\n",
        "    h = self.id3(h)\n",
        "    for block in self.block3:\n",
        "      h = block(h)\n",
        "    h = self.id4(h)\n",
        "    for block in self.block4:\n",
        "      h = block(h)\n",
        "    h = self.avg_pool(h)\n",
        "    h = self.fc(h)\n",
        "    h = torch.relu(h)\n",
        "    h = self.out(h)\n",
        "    y = torch.log_softmax(h, dim=-1)\n",
        "    return y"
      ],
      "execution_count": null,
      "outputs": []
    },
    {
      "cell_type": "code",
      "source": [
        "class StemBlock(nn.Module):\n",
        "  def __init__(self, channel_in, channel_out):\n",
        "    super(StemBlock, self).__init__()\n",
        "\n",
        "    self.stem = nn.Sequential(nn.Conv2d(channel_in, channel_out, kernel_size=(7, 7), stride=2, padding=3, bias=False),\n",
        "                              nn.BatchNorm2d(channel_out),\n",
        "                              nn.ReLU(inplace=True),\n",
        "                              nn.MaxPool2d(kernel_size=(3, 3), stride=2, padding=1))\n",
        "    self.init_weights()\n",
        "  \n",
        "  def init_weights(self):\n",
        "    for _, module in self.named_modules():\n",
        "      if isinstance(module, nn.Conv2d):\n",
        "        nn.init.kaiming_normal_(module.weight, mode='fan_in', nonlinearity='relu')\n",
        "      if isinstance(module, nn.BatchNorm2d):\n",
        "        nn.init.ones_(module.weight)\n",
        "        nn.init.zeros_(module.bias)\n",
        "  \n",
        "  def forward(self, x):\n",
        "    return self.stem(x)"
      ],
      "metadata": {
        "id": "Ovy_2rwPQ17T"
      },
      "execution_count": null,
      "outputs": []
    },
    {
      "cell_type": "code",
      "metadata": {
        "id": "cHgj1iFAIUb1"
      },
      "source": [
        "class Block(nn.Module):\n",
        "  def __init__(self, channel_in, channel_out, stride, identity):\n",
        "    super(Block, self).__init__()\n",
        "    channel = int(channel_out / 4)\n",
        "\n",
        "    # 1x1 conv\n",
        "    self.bn1 = nn.BatchNorm2d(channel_in)\n",
        "    self.relu1 = nn.ReLU(inplace=True)\n",
        "    self.conv1 = nn.Conv2d(channel_in, channel, kernel_size=(1, 1), bias=False)\n",
        "    \n",
        "    # 3x3 conv\n",
        "    self.bn2 = nn.BatchNorm2d(channel)\n",
        "    self.relu2 = nn.ReLU(inplace=True)\n",
        "    self.conv2 = nn.Conv2d(channel, channel, kernel_size=(3, 3), stride=stride, padding=1, bias=False)\n",
        "    \n",
        "    # 1x1 conv\n",
        "    self.bn3 = nn.BatchNorm2d(channel)\n",
        "    self.drop_out = DropPath(drop_prob=0.3)\n",
        "    self.conv3 = nn.Conv2d(channel, channel_out, kernel_size=(1, 1), bias=False)\n",
        "    \n",
        "    # skip connection\n",
        "    self.identity = identity\n",
        "    self.downsample = DownSample(channel_in, channel_out, stride)\n",
        "    self.init_weights()\n",
        "\n",
        "  def init_weights(self):\n",
        "    for _, module in self.named_modules():\n",
        "            if isinstance(module, nn.Conv2d):\n",
        "                nn.init.kaiming_normal_(module.weight, mode='fan_in',\n",
        "                                        nonlinearity='relu')\n",
        "            if isinstance(module, nn.BatchNorm2d):\n",
        "                nn.init.ones_(module.weight)\n",
        "                nn.init.zeros_(module.bias)\n",
        "\n",
        "  def forward(self, x):\n",
        "    h = self.bn1(x)\n",
        "    h = self.relu1(h)\n",
        "    h = self.conv1(h)\n",
        "    h = self.bn2(h)\n",
        "    h = self.relu2(h)\n",
        "    h = self.conv2(h)\n",
        "    h = self.bn3(h)\n",
        "    h = self.drop_out(h)\n",
        "    h = self.conv3(h)\n",
        "    shortcut = self.downsample(x) if self.identity else x\n",
        "    y = h + shortcut\n",
        "    return y"
      ],
      "execution_count": null,
      "outputs": []
    },
    {
      "cell_type": "code",
      "source": [
        "class DropPath(nn.Module):\n",
        "  def __init__(self, drop_prob=None):\n",
        "    super(DropPath, self).__init__()\n",
        "    self.drop_prob = drop_prob\n",
        "\n",
        "  def forward(self, x):\n",
        "    if self.drop_prob is None or self.drop_prob == 0 or not self.training:\n",
        "      return x\n",
        "    keep_prob = 1 - self.drop_prob\n",
        "    shape = (x.shape[0], ) + (1, ) * (x.ndim - 1)\n",
        "    rand_tensor = keep_prob + torch.rand(shape, dtype=x.dtype, device=x.device)\n",
        "    rand_tensor = rand_tensor.floor_()\n",
        "    out = x.div(keep_prob) * rand_tensor\n",
        "    return out"
      ],
      "metadata": {
        "id": "c4X0KKwzbxh2"
      },
      "execution_count": null,
      "outputs": []
    },
    {
      "cell_type": "code",
      "source": [
        "class DownSample(nn.Module):\n",
        "  def __init__(self, channel_in, channel_out, stride):\n",
        "    super(DownSample, self).__init__()\n",
        "    self.downsample = nn.Conv2d(channel_in, channel_out, kernel_size=(1, 1), stride=stride, bias=False)\n",
        "\n",
        "  def forward(self, x):\n",
        "    return self.downsample(x)"
      ],
      "metadata": {
        "id": "ChUqtg5gbzl_"
      },
      "execution_count": null,
      "outputs": []
    },
    {
      "cell_type": "code",
      "metadata": {
        "id": "3g3CkT_gIZcX"
      },
      "source": [
        "class GlobalAvgPool2d(nn.Module):\n",
        "  def __init__(self, device='cuda'):\n",
        "    super(GlobalAvgPool2d, self).__init__()\n",
        "  def forward(self, x):\n",
        "    return F.avg_pool2d(x, kernel_size=x.size()[2:]).view(-1, x.size(1))"
      ],
      "execution_count": null,
      "outputs": []
    },
    {
      "cell_type": "markdown",
      "source": [
        "#Tensor size\n",
        "\n",
        "CNN networks are capable of adaptive to Image. Therefore, using pytorch library, you can show that tensor $h$ size is\n",
        "\n",
        "\n",
        "$$\n",
        "h = \\begin{bmatrix} batch size & channel & width & height \\end{bmatrix} \n",
        "$$\n",
        "\n",
        "$batch size$ is Neural Network minibatch, $channel$ is channel number, $width$ and $height$ are width and height of image source."
      ],
      "metadata": {
        "id": "GyPD3qng4CRK"
      }
    },
    {
      "cell_type": "markdown",
      "source": [
        "#**CIFAR-100**"
      ],
      "metadata": {
        "id": "PU1RJN2CicxO"
      }
    },
    {
      "cell_type": "code",
      "metadata": {
        "colab": {
          "base_uri": "https://localhost:8080/",
          "height": 1000,
          "referenced_widgets": [
            "8ca17ba1fb32433aa031c5086e6bed39",
            "740b1aaecd4f4611a4ac84b26e8c2775",
            "303c503fae1a4fc4ae700b3d2a9b7a33",
            "2d38778ebc7b4702848cfe9932ce3a28",
            "283d9a3cda694d4693b3fd4ce95cd22a",
            "fdd0071d64e0444cb1c7dd00e281164f",
            "8d844ebcc71647939599baa6cd14b1a5",
            "c9674f534e3a4ec2867d0ae636c97907",
            "35ae9e269e234a5184bfc71c2e42ae07",
            "772dc6284d1343aabc03a51532b7aebe",
            "b42335fa801a4d379be34ab6598950fb"
          ]
        },
        "id": "sIJUc5boChkC",
        "outputId": "66d67211-d057-4920-9367-3f120a8c9047"
      },
      "source": [
        "if __name__ == '__main__':\n",
        "  np.random.seed(1234)\n",
        "  torch.manual_seed(1234)\n",
        "  device = torch.device('cuda' if torch.cuda.is_available() else 'cpu')\n",
        "  scaler = torch.cuda.amp.GradScaler()\n",
        "\n",
        "  cifar_classes = ['apple', 'aquarium_fish', 'baby', 'bear', 'beaver', 'bed', 'bee', 'beetle', \n",
        "    'bicycle', 'bottle', 'bowl', 'boy', 'bridge', 'bus', 'butterfly', 'camel', \n",
        "    'can', 'castle', 'caterpillar', 'cattle', 'chair', 'chimpanzee', 'clock', \n",
        "    'cloud', 'cockroach', 'couch', 'crab', 'crocodile', 'cup', 'dinosaur', \n",
        "    'dolphin', 'elephant', 'flatfish', 'forest', 'fox', 'girl', 'hamster', \n",
        "    'house', 'kangaroo', 'keyboard', 'lamp', 'lawn_mower', 'leopard', 'lion',\n",
        "    'lizard', 'lobster', 'man', 'maple_tree', 'motorcycle', 'mountain', 'mouse',\n",
        "    'mushroom', 'oak_tree', 'orange', 'orchid', 'otter', 'palm_tree', 'pear',\n",
        "    'pickup_truck', 'pine_tree', 'plain', 'plate', 'poppy', 'porcupine',\n",
        "    'possum', 'rabbit', 'raccoon', 'ray', 'road', 'rocket', 'rose',\n",
        "    'sea', 'seal', 'shark', 'shrew', 'skunk', 'skyscraper', 'snail', 'snake',\n",
        "    'spider', 'squirrel', 'streetcar', 'sunflower', 'sweet_pepper', 'table',\n",
        "    'tank', 'telephone', 'television', 'tiger', 'tractor', 'train', 'trout',\n",
        "    'tulip', 'turtle', 'wardrobe', 'whale', 'willow_tree', 'wolf', 'woman',\n",
        "    'worm']\n",
        "  \n",
        "  transform_train = transforms.Compose([transforms.Resize((160, 160)), transforms.RandAugment(magnitude=10), transforms.ToTensor()])\n",
        "  transform_val = transforms.Compose([transforms.Resize((160, 160)), transforms.ToTensor()])\n",
        "  cifar_train = torchvision.datasets.CIFAR100(root=\"CIFAR100\", download=True, train=True, transform=transform_train)\n",
        "  cifar_val = torchvision.datasets.CIFAR100(root=\"CIFAR100\", download=True, train=False, transform=transform_val)\n",
        "  train_dataloader = DataLoader(cifar_train, batch_size=128, shuffle=True, num_workers=2, pin_memory=True, drop_last=True)\n",
        "  val_dataloader = DataLoader(cifar_val, batch_size=128, shuffle=False, num_workers=2, pin_memory=True, drop_last=True)\n",
        "\n",
        "  model = ResNet50(len(cifar_classes)).to(device)\n",
        "  \n",
        "  def compute_loss(label, pred):\n",
        "    return criterion(log_prob(pred), label)\n",
        "\n",
        "  def train_step(x, t):\n",
        "    model.train()\n",
        "    with torch.cuda.amp.autocast():\n",
        "      preds = model(x)\n",
        "      loss = compute_loss(t, preds)\n",
        "    del preds, x\n",
        "    optimizer.zero_grad()\n",
        "    scaler.scale(loss).backward()\n",
        "    scaler.step(optimizer)\n",
        "    scaler.update()\n",
        "    return loss\n",
        "\n",
        "  def val_step(x, t):\n",
        "    model.eval()\n",
        "    with torch.cuda.amp.autocast():\n",
        "      preds = model(x)\n",
        "      loss = compute_loss(t, preds)\n",
        "    del x\n",
        "    return loss, preds\n",
        "\n",
        "  criterion = nn.NLLLoss()\n",
        "  log_prob = nn.LogSoftmax(dim=1)\n",
        "  optimizer = optimizers.SGD(model.parameters(),lr=0.001, momentum=0.9, weight_decay=4e-5)\n",
        "  epochs = 50\n",
        "\n",
        "  result_list = np.zeros(4)\n",
        "  for epoch in range(epochs):\n",
        "    train_loss = 0.\n",
        "    val_loss = 0.\n",
        "    val_acc = 0.\n",
        "\n",
        "    for(x, t) in train_dataloader:\n",
        "      x, t = x.to(device), t.to(device)\n",
        "      loss = train_step(x, t)\n",
        "      train_loss += loss.item()\n",
        "      del t, loss\n",
        "      torch.cuda.empty_cache()\n",
        "\n",
        "    train_loss /= len(train_dataloader)\n",
        "    print(\"Epoch: {}, Train Cost: {:.3f}\".format(epoch+1, train_loss))\n",
        "\n",
        "    with torch.inference_mode():\n",
        "      for (x, t) in val_dataloader:\n",
        "        x, t = x.to(device), t.to(device)\n",
        "        loss, preds = val_step(x, t)\n",
        "        val_loss += loss.item()\n",
        "        val_acc += accuracy_score(t.tolist(), preds.argmax(dim=-1).tolist())\n",
        "        del t, loss, preds\n",
        "        torch.cuda.empty_cache()\n",
        "\n",
        "    val_loss /= len(val_dataloader)\n",
        "    val_acc /= len(val_dataloader)\n",
        "    result_list = np.vstack((result_list, np.array([epoch+1, train_loss, val_loss, val_acc])))\n",
        "    print(\"Epoch: {}, Valid Cost: {:.3f}, Valid Acc: {:.3f}\".format(epoch+1, val_loss, val_acc))"
      ],
      "execution_count": null,
      "outputs": [
        {
          "output_type": "stream",
          "name": "stdout",
          "text": [
            "Downloading https://www.cs.toronto.edu/~kriz/cifar-100-python.tar.gz to CIFAR100/cifar-100-python.tar.gz\n"
          ]
        },
        {
          "output_type": "display_data",
          "data": {
            "application/vnd.jupyter.widget-view+json": {
              "model_id": "8ca17ba1fb32433aa031c5086e6bed39",
              "version_minor": 0,
              "version_major": 2
            },
            "text/plain": [
              "  0%|          | 0/169001437 [00:00<?, ?it/s]"
            ]
          },
          "metadata": {}
        },
        {
          "output_type": "stream",
          "name": "stdout",
          "text": [
            "Extracting CIFAR100/cifar-100-python.tar.gz to CIFAR100\n",
            "Files already downloaded and verified\n",
            "Epoch: 1, Train Cost: 4.368\n",
            "Epoch: 1, Valid Cost: 3.879, Valid Acc: 0.107\n",
            "Epoch: 2, Train Cost: 4.069\n",
            "Epoch: 2, Valid Cost: 3.836, Valid Acc: 0.109\n",
            "Epoch: 3, Train Cost: 3.945\n",
            "Epoch: 3, Valid Cost: 3.620, Valid Acc: 0.141\n",
            "Epoch: 4, Train Cost: 3.858\n",
            "Epoch: 4, Valid Cost: 3.566, Valid Acc: 0.153\n",
            "Epoch: 5, Train Cost: 3.778\n",
            "Epoch: 5, Valid Cost: 3.438, Valid Acc: 0.177\n",
            "Epoch: 6, Train Cost: 3.721\n",
            "Epoch: 6, Valid Cost: 3.420, Valid Acc: 0.184\n",
            "Epoch: 7, Train Cost: 3.667\n",
            "Epoch: 7, Valid Cost: 3.471, Valid Acc: 0.177\n",
            "Epoch: 8, Train Cost: 3.612\n",
            "Epoch: 8, Valid Cost: 3.391, Valid Acc: 0.188\n",
            "Epoch: 9, Train Cost: 3.565\n",
            "Epoch: 9, Valid Cost: 3.221, Valid Acc: 0.212\n",
            "Epoch: 10, Train Cost: 3.526\n",
            "Epoch: 10, Valid Cost: 3.248, Valid Acc: 0.211\n",
            "Epoch: 11, Train Cost: 3.485\n",
            "Epoch: 11, Valid Cost: 3.287, Valid Acc: 0.205\n",
            "Epoch: 12, Train Cost: 3.435\n",
            "Epoch: 12, Valid Cost: 3.372, Valid Acc: 0.199\n",
            "Epoch: 13, Train Cost: 3.393\n",
            "Epoch: 13, Valid Cost: 3.264, Valid Acc: 0.214\n",
            "Epoch: 14, Train Cost: 3.348\n",
            "Epoch: 14, Valid Cost: 3.005, Valid Acc: 0.264\n",
            "Epoch: 15, Train Cost: 3.316\n",
            "Epoch: 15, Valid Cost: 3.181, Valid Acc: 0.230\n",
            "Epoch: 16, Train Cost: 3.274\n",
            "Epoch: 16, Valid Cost: 3.077, Valid Acc: 0.247\n",
            "Epoch: 17, Train Cost: 3.237\n",
            "Epoch: 17, Valid Cost: 2.908, Valid Acc: 0.276\n",
            "Epoch: 18, Train Cost: 3.204\n",
            "Epoch: 18, Valid Cost: 3.161, Valid Acc: 0.238\n",
            "Epoch: 19, Train Cost: 3.171\n",
            "Epoch: 19, Valid Cost: 3.032, Valid Acc: 0.261\n",
            "Epoch: 20, Train Cost: 3.133\n",
            "Epoch: 20, Valid Cost: 2.830, Valid Acc: 0.295\n",
            "Epoch: 21, Train Cost: 3.103\n",
            "Epoch: 21, Valid Cost: 2.832, Valid Acc: 0.299\n",
            "Epoch: 22, Train Cost: 3.069\n",
            "Epoch: 22, Valid Cost: 2.932, Valid Acc: 0.285\n",
            "Epoch: 23, Train Cost: 3.049\n",
            "Epoch: 23, Valid Cost: 2.732, Valid Acc: 0.312\n",
            "Epoch: 24, Train Cost: 3.010\n",
            "Epoch: 24, Valid Cost: 2.711, Valid Acc: 0.310\n",
            "Epoch: 25, Train Cost: 2.982\n",
            "Epoch: 25, Valid Cost: 2.826, Valid Acc: 0.300\n",
            "Epoch: 26, Train Cost: 2.957\n",
            "Epoch: 26, Valid Cost: 3.094, Valid Acc: 0.263\n",
            "Epoch: 27, Train Cost: 2.925\n",
            "Epoch: 27, Valid Cost: 2.703, Valid Acc: 0.320\n",
            "Epoch: 28, Train Cost: 2.901\n",
            "Epoch: 28, Valid Cost: 2.572, Valid Acc: 0.342\n",
            "Epoch: 29, Train Cost: 2.875\n",
            "Epoch: 29, Valid Cost: 2.743, Valid Acc: 0.310\n",
            "Epoch: 30, Train Cost: 2.844\n",
            "Epoch: 30, Valid Cost: 2.537, Valid Acc: 0.350\n",
            "Epoch: 31, Train Cost: 2.823\n",
            "Epoch: 31, Valid Cost: 2.705, Valid Acc: 0.327\n",
            "Epoch: 32, Train Cost: 2.792\n",
            "Epoch: 32, Valid Cost: 2.853, Valid Acc: 0.305\n",
            "Epoch: 33, Train Cost: 2.769\n",
            "Epoch: 33, Valid Cost: 2.568, Valid Acc: 0.347\n",
            "Epoch: 34, Train Cost: 2.747\n",
            "Epoch: 34, Valid Cost: 2.739, Valid Acc: 0.324\n",
            "Epoch: 35, Train Cost: 2.720\n",
            "Epoch: 35, Valid Cost: 2.669, Valid Acc: 0.335\n",
            "Epoch: 36, Train Cost: 2.706\n",
            "Epoch: 36, Valid Cost: 2.505, Valid Acc: 0.365\n",
            "Epoch: 37, Train Cost: 2.666\n",
            "Epoch: 37, Valid Cost: 2.485, Valid Acc: 0.365\n",
            "Epoch: 38, Train Cost: 2.661\n",
            "Epoch: 38, Valid Cost: 2.494, Valid Acc: 0.369\n",
            "Epoch: 39, Train Cost: 2.634\n",
            "Epoch: 39, Valid Cost: 2.470, Valid Acc: 0.375\n",
            "Epoch: 40, Train Cost: 2.605\n",
            "Epoch: 40, Valid Cost: 2.574, Valid Acc: 0.356\n",
            "Epoch: 41, Train Cost: 2.588\n",
            "Epoch: 41, Valid Cost: 2.643, Valid Acc: 0.353\n",
            "Epoch: 42, Train Cost: 2.570\n",
            "Epoch: 42, Valid Cost: 2.446, Valid Acc: 0.374\n",
            "Epoch: 43, Train Cost: 2.558\n",
            "Epoch: 43, Valid Cost: 2.341, Valid Acc: 0.395\n",
            "Epoch: 44, Train Cost: 2.516\n",
            "Epoch: 44, Valid Cost: 2.530, Valid Acc: 0.372\n",
            "Epoch: 45, Train Cost: 2.507\n",
            "Epoch: 45, Valid Cost: 2.432, Valid Acc: 0.382\n",
            "Epoch: 46, Train Cost: 2.490\n",
            "Epoch: 46, Valid Cost: 2.836, Valid Acc: 0.330\n",
            "Epoch: 47, Train Cost: 2.462\n",
            "Epoch: 47, Valid Cost: 2.283, Valid Acc: 0.408\n",
            "Epoch: 48, Train Cost: 2.461\n",
            "Epoch: 48, Valid Cost: 2.549, Valid Acc: 0.366\n",
            "Epoch: 49, Train Cost: 2.428\n",
            "Epoch: 49, Valid Cost: 2.583, Valid Acc: 0.361\n",
            "Epoch: 50, Train Cost: 2.411\n",
            "Epoch: 50, Valid Cost: 2.357, Valid Acc: 0.401\n"
          ]
        }
      ]
    },
    {
      "cell_type": "markdown",
      "source": [
        "#**Plot**"
      ],
      "metadata": {
        "id": "Wt6g8259uWHU"
      }
    },
    {
      "cell_type": "code",
      "source": [
        "import matplotlib.pyplot as plt\n",
        "%matplotlib inline\n",
        "result = result_list.T\n",
        "epoch = result[0]\n",
        "train_loss = result[1]\n",
        "val_loss = result[2]\n",
        "accuracy = result[3]\n",
        "\n",
        "fig, ax1 = plt.subplots(figsize=(10,7))\n",
        "ax1.set_xlim(1, 50)\n",
        "ax1.set_ylim(0, 4)\n",
        "ax1.tick_params(labelsize=16)\n",
        "ax1.set_xlabel(\"Epoch\", fontsize=22)\n",
        "ax1.set_ylabel(\"Cost\", fontsize=22)\n",
        "ax1.plot(epoch, train_loss, color=\"#ce1021\", label=\"Train\")\n",
        "ax1.plot(epoch, val_loss, color=\"#5ab639\", label=\"Val\")\n",
        "\n",
        "ax2 = ax1.twinx()\n",
        "ax2.set_ylim(0, 1)\n",
        "ax2.tick_params(labelsize=16)\n",
        "ax2.set_ylabel(\"Accuracy\", fontsize=22)\n",
        "ax2.plot(epoch, accuracy, color=\"#0086ce\", label=\"Accuracy\")\n",
        "\n",
        "h1, l1 = ax1.get_legend_handles_labels()\n",
        "h2, l2 = ax2.get_legend_handles_labels()\n",
        "ax1.legend(h1+h2, l1+l2, fontsize=18, loc='upper right')\n",
        "\n",
        "plt.show()"
      ],
      "metadata": {
        "id": "Rnapsc0wuR40",
        "colab": {
          "base_uri": "https://localhost:8080/",
          "height": 463
        },
        "outputId": "2e4bda5a-d19d-4225-af83-6d1c70090bba"
      },
      "execution_count": null,
      "outputs": [
        {
          "output_type": "display_data",
          "data": {
            "image/png": "[encoded data removed]",
            "text/plain": [
              "<Figure size 720x504 with 2 Axes>"
            ]
          },
          "metadata": {
            "needs_background": "light"
          }
        }
      ]
    },
    {
      "cell_type": "markdown",
      "source": [
        "#**Image classification on validation data**"
      ],
      "metadata": {
        "id": "kw54l9rkt-jV"
      }
    },
    {
      "cell_type": "code",
      "source": [
        "from PIL import Image\n",
        "device = torch.device('cuda' if torch.cuda.is_available() else 'cpu')\n",
        "\n",
        "cifar_val = torchvision.datasets.CIFAR100(root=\"CIFAR100\", download=False, train=False, transform=None)\n",
        "images, labels=[], []\n",
        "for sample in cifar_val:\n",
        "  image, label = sample\n",
        "  images.append(image)\n",
        "  labels.append(label)\n",
        "\n",
        "idx = 51\n",
        "img_src = images[idx]\n",
        "plt.imshow(img_src)\n",
        "label = labels[idx]\n",
        "\n",
        "trans = transforms.Compose([transforms.Resize((160, 160)), transforms.ToTensor()])\n",
        "img = trans(img_src)\n",
        "img_batch = img[None]\n",
        "\n",
        "model.eval()\n",
        "torch.backends.cudnn.benchmark = True\n",
        "\n",
        "with torch.cuda.amp.autocast():\n",
        "  prediction = model(img_batch.to(device))\n",
        "idx = torch.argmax(prediction[0])\n",
        "print(\"Pred: \", cifar_classes[idx])\n",
        "print(\"Correct: \", cifar_classes[label])"
      ],
      "metadata": {
        "id": "ccZvszhehl6x",
        "colab": {
          "base_uri": "https://localhost:8080/",
          "height": 301
        },
        "outputId": "7469e9a5-4205-4e70-c235-c5527225f32b"
      },
      "execution_count": null,
      "outputs": [
        {
          "output_type": "stream",
          "name": "stdout",
          "text": [
            "Pred:  leopard\n",
            "Correct:  bee\n"
          ]
        },
        {
          "output_type": "display_data",
          "data": {
            "image/png": "[encoded data removed]",
            "text/plain": [
              "<Figure size 432x288 with 1 Axes>"
            ]
          },
          "metadata": {
            "needs_background": "light"
          }
        }
      ]
    }
  ]
}